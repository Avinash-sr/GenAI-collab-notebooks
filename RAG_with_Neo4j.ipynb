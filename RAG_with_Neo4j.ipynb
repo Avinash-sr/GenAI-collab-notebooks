{
  "nbformat": 4,
  "nbformat_minor": 0,
  "metadata": {
    "colab": {
      "provenance": [],
      "authorship_tag": "ABX9TyNUpGpjdBw58Xq/odBUeaSS",
      "include_colab_link": true
    },
    "kernelspec": {
      "name": "python3",
      "display_name": "Python 3"
    },
    "language_info": {
      "name": "python"
    },
    "widgets": {
      "application/vnd.jupyter.widget-state+json": {
        "6685ede534b8446dba0fd2a3c53bec67": {
          "model_module": "yfiles-jupyter-graphs",
          "model_name": "GraphModel",
          "model_module_version": "^1.10.1",
          "state": {
            "_context_pane_mapping": [
              {
                "id": "Neighborhood",
                "title": "Neighborhood"
              },
              {
                "id": "Data",
                "title": "Data"
              },
              {
                "id": "Search",
                "title": "Search"
              },
              {
                "id": "About",
                "title": "About"
              }
            ],
            "_data_importer": "neo4j",
            "_directed": true,
            "_dom_classes": [],
            "_edges": [
              {
                "id": 1152922604118474800,
                "start": 1,
                "end": 2,
                "properties": {
                  "label": "PARENT"
                },
                "color": "#F44336",
                "thickness_factor": 1,
                "directed": true,
                "styles": {},
                "label": "PARENT"
              },
              {
                "id": 1152923703630102500,
                "start": 1,
                "end": 3,
                "properties": {
                  "label": "MOTHER"
                },
                "color": "#607D8B",
                "thickness_factor": 1,
                "directed": true,
                "styles": {},
                "label": "MOTHER"
              },
              {
                "id": 1152924803141730300,
                "start": 2,
                "end": 4,
                "properties": {
                  "label": "FATHER"
                },
                "color": "#673AB7",
                "thickness_factor": 1,
                "directed": true,
                "styles": {},
                "label": "FATHER"
              },
              {
                "id": 1152925902653358000,
                "start": 4,
                "end": 5,
                "properties": {
                  "label": "SISTER"
                },
                "color": "#CDDC39",
                "thickness_factor": 1,
                "directed": true,
                "styles": {},
                "label": "SISTER"
              },
              {
                "id": 1152927002164985900,
                "start": 5,
                "end": 6,
                "properties": {
                  "label": "COUSIN"
                },
                "color": "#9E9E9E",
                "thickness_factor": 1,
                "directed": true,
                "styles": {},
                "label": "COUSIN"
              },
              {
                "id": 1152922604118474800,
                "start": 8,
                "end": 17,
                "properties": {
                  "label": "PARENT"
                },
                "color": "#F44336",
                "thickness_factor": 1,
                "directed": true,
                "styles": {},
                "label": "PARENT"
              },
              {
                "id": 1152923703630102500,
                "start": 8,
                "end": 9,
                "properties": {
                  "label": "MOTHER"
                },
                "color": "#607D8B",
                "thickness_factor": 1,
                "directed": true,
                "styles": {},
                "label": "MOTHER"
              },
              {
                "id": 1155175503443787800,
                "start": 8,
                "end": 18,
                "properties": {
                  "label": "MOTHER"
                },
                "color": "#607D8B",
                "thickness_factor": 1,
                "directed": true,
                "styles": {},
                "label": "MOTHER"
              },
              {
                "id": 6917531226664337000,
                "start": 8,
                "end": 28,
                "properties": {
                  "label": "MOTHER"
                },
                "color": "#607D8B",
                "thickness_factor": 1,
                "directed": true,
                "styles": {},
                "label": "MOTHER"
              },
              {
                "id": 6917533425687593000,
                "start": 8,
                "end": 20,
                "properties": {
                  "label": "SISTER"
                },
                "color": "#CDDC39",
                "thickness_factor": 1,
                "directed": true,
                "styles": {},
                "label": "SISTER"
              },
              {
                "id": 1152927002164985900,
                "start": 8,
                "end": 20,
                "properties": {
                  "label": "COUSIN"
                },
                "color": "#9E9E9E",
                "thickness_factor": 1,
                "directed": true,
                "styles": {},
                "label": "COUSIN"
              },
              {
                "id": 1152928101676613600,
                "start": 8,
                "end": 2,
                "properties": {
                  "label": "CHILD"
                },
                "color": "#9C27B0",
                "thickness_factor": 1,
                "directed": true,
                "styles": {},
                "label": "CHILD"
              },
              {
                "id": 1152929201188241400,
                "start": 8,
                "end": 10,
                "properties": {
                  "label": "NAMED_AFTER"
                },
                "color": "#2196F3",
                "thickness_factor": 1,
                "directed": true,
                "styles": {},
                "label": "NAMED_AFTER"
              },
              {
                "id": 1155181001001926700,
                "start": 8,
                "end": 11,
                "properties": {
                  "label": "NAMED_AFTER"
                },
                "color": "#2196F3",
                "thickness_factor": 1,
                "directed": true,
                "styles": {},
                "label": "NAMED_AFTER"
              },
              {
                "id": 1152930300699869200,
                "start": 8,
                "end": 12,
                "properties": {
                  "label": "COLLABORATOR"
                },
                "color": "#4CAF50",
                "thickness_factor": 1,
                "directed": true,
                "styles": {},
                "label": "COLLABORATOR"
              },
              {
                "id": 1155182100513554400,
                "start": 8,
                "end": 13,
                "properties": {
                  "label": "COLLABORATOR"
                },
                "color": "#4CAF50",
                "thickness_factor": 1,
                "directed": true,
                "styles": {},
                "label": "COLLABORATOR"
              },
              {
                "id": 1152931400211497000,
                "start": 8,
                "end": 14,
                "properties": {
                  "label": "ASSOCIATE"
                },
                "color": "#F44336",
                "thickness_factor": 1,
                "directed": true,
                "styles": {},
                "label": "ASSOCIATE"
              },
              {
                "id": 1155183200025182200,
                "start": 8,
                "end": 15,
                "properties": {
                  "label": "ASSOCIATE"
                },
                "color": "#F44336",
                "thickness_factor": 1,
                "directed": true,
                "styles": {},
                "label": "ASSOCIATE"
              },
              {
                "id": 1152932499723124700,
                "start": 8,
                "end": 19,
                "properties": {
                  "label": "NEPHEW"
                },
                "color": "#607D8B",
                "thickness_factor": 1,
                "directed": true,
                "styles": {},
                "label": "NEPHEW"
              },
              {
                "id": 1155184299536810000,
                "start": 8,
                "end": 22,
                "properties": {
                  "label": "NEPHEW"
                },
                "color": "#607D8B",
                "thickness_factor": 1,
                "directed": true,
                "styles": {},
                "label": "NEPHEW"
              },
              {
                "id": 1152933599234752500,
                "start": 8,
                "end": 21,
                "properties": {
                  "label": "GREAT-NEPHEW"
                },
                "color": "#673AB7",
                "thickness_factor": 1,
                "directed": true,
                "styles": {},
                "label": "GREAT-NEPHEW"
              },
              {
                "id": 1152934698746380300,
                "start": 8,
                "end": 23,
                "properties": {
                  "label": "MENTOR"
                },
                "color": "#CDDC39",
                "thickness_factor": 1,
                "directed": true,
                "styles": {},
                "label": "MENTOR"
              },
              {
                "id": 1155186498560065500,
                "start": 8,
                "end": 24,
                "properties": {
                  "label": "MENTOR"
                },
                "color": "#CDDC39",
                "thickness_factor": 1,
                "directed": true,
                "styles": {},
                "label": "MENTOR"
              },
              {
                "id": 1157438298373750800,
                "start": 8,
                "end": 25,
                "properties": {
                  "label": "MENTOR"
                },
                "color": "#CDDC39",
                "thickness_factor": 1,
                "directed": true,
                "styles": {},
                "label": "MENTOR"
              },
              {
                "id": 1152935798258008000,
                "start": 8,
                "end": 26,
                "properties": {
                  "label": "ENEMY"
                },
                "color": "#9E9E9E",
                "thickness_factor": 1,
                "directed": true,
                "styles": {},
                "label": "ENEMY"
              },
              {
                "id": 6917544420803871000,
                "start": 8,
                "end": 30,
                "properties": {
                  "label": "HALF-BROTHER"
                },
                "color": "#9C27B0",
                "thickness_factor": 1,
                "directed": true,
                "styles": {},
                "label": "HALF-BROTHER"
              },
              {
                "id": 1152937997281263600,
                "start": 17,
                "end": 31,
                "properties": {
                  "label": "FIRST_WIFE"
                },
                "color": "#2196F3",
                "thickness_factor": 1,
                "directed": true,
                "styles": {},
                "label": "FIRST_WIFE"
              },
              {
                "id": 1152924803141730300,
                "start": 28,
                "end": 29,
                "properties": {
                  "label": "FATHER"
                },
                "color": "#673AB7",
                "thickness_factor": 1,
                "directed": true,
                "styles": {},
                "label": "FATHER"
              },
              {
                "id": 1152922604118474800,
                "start": 33,
                "end": 2,
                "properties": {
                  "label": "PARENT"
                },
                "color": "#F44336",
                "thickness_factor": 1,
                "directed": true,
                "styles": {},
                "label": "PARENT"
              },
              {
                "id": 1152939096792891400,
                "start": 33,
                "end": 34,
                "properties": {
                  "label": "MINIATURIST"
                },
                "color": "#4CAF50",
                "thickness_factor": 1,
                "directed": true,
                "styles": {},
                "label": "MINIATURIST"
              },
              {
                "id": 1152940196304519200,
                "start": 33,
                "end": 35,
                "properties": {
                  "label": "SERJEANT_PAINTER"
                },
                "color": "#F44336",
                "thickness_factor": 1,
                "directed": true,
                "styles": {},
                "label": "SERJEANT_PAINTER"
              },
              {
                "id": 1152941295816147000,
                "start": 33,
                "end": 36,
                "properties": {
                  "label": "ARTIST"
                },
                "color": "#607D8B",
                "thickness_factor": 1,
                "directed": true,
                "styles": {},
                "label": "ARTIST"
              },
              {
                "id": 1155193095629832200,
                "start": 33,
                "end": 37,
                "properties": {
                  "label": "ARTIST"
                },
                "color": "#607D8B",
                "thickness_factor": 1,
                "directed": true,
                "styles": {},
                "label": "ARTIST"
              },
              {
                "id": 1157444895443517400,
                "start": 33,
                "end": 38,
                "properties": {
                  "label": "ARTIST"
                },
                "color": "#607D8B",
                "thickness_factor": 1,
                "directed": true,
                "styles": {},
                "label": "ARTIST"
              },
              {
                "id": 1159696695257202700,
                "start": 33,
                "end": 39,
                "properties": {
                  "label": "ARTIST"
                },
                "color": "#607D8B",
                "thickness_factor": 1,
                "directed": true,
                "styles": {},
                "label": "ARTIST"
              },
              {
                "id": 1152941295816147000,
                "start": 41,
                "end": 2,
                "properties": {
                  "label": "ARTIST"
                },
                "color": "#607D8B",
                "thickness_factor": 1,
                "directed": true,
                "styles": {},
                "label": "ARTIST"
              },
              {
                "id": 1155193095629832200,
                "start": 41,
                "end": 8,
                "properties": {
                  "label": "ARTIST"
                },
                "color": "#607D8B",
                "thickness_factor": 1,
                "directed": true,
                "styles": {},
                "label": "ARTIST"
              },
              {
                "id": 1157444895443517400,
                "start": 41,
                "end": 43,
                "properties": {
                  "label": "ARTIST"
                },
                "color": "#607D8B",
                "thickness_factor": 1,
                "directed": true,
                "styles": {},
                "label": "ARTIST"
              },
              {
                "id": 1152941295816147000,
                "start": 44,
                "end": 42,
                "properties": {
                  "label": "ARTIST"
                },
                "color": "#607D8B",
                "thickness_factor": 1,
                "directed": true,
                "styles": {},
                "label": "ARTIST"
              }
            ],
            "_graph_layout": {},
            "_highlight": [],
            "_license": {},
            "_model_module": "yfiles-jupyter-graphs",
            "_model_module_version": "^1.10.1",
            "_model_name": "GraphModel",
            "_neighborhood": {},
            "_nodes": [
              {
                "id": 1,
                "properties": {
                  "id": "Elizabeth I",
                  "label": "Person:__Entity__"
                },
                "color": "#2196F3",
                "styles": {},
                "label": "Elizabeth I",
                "scale_factor": 1,
                "type": "#2196F3",
                "size": [
                  55,
                  55
                ],
                "position": [
                  0,
                  0
                ]
              },
              {
                "id": 2,
                "properties": {
                  "id": "Henry Viii",
                  "label": "Person:__Entity__"
                },
                "color": "#2196F3",
                "styles": {},
                "label": "Henry Viii",
                "scale_factor": 1,
                "type": "#2196F3",
                "size": [
                  55,
                  55
                ],
                "position": [
                  0,
                  0
                ]
              },
              {
                "id": 3,
                "properties": {
                  "id": "Anne Boleyn",
                  "label": "Person:__Entity__"
                },
                "color": "#2196F3",
                "styles": {},
                "label": "Anne Boleyn",
                "scale_factor": 1,
                "type": "#2196F3",
                "size": [
                  55,
                  55
                ],
                "position": [
                  0,
                  0
                ]
              },
              {
                "id": 4,
                "properties": {
                  "id": "Edward Vi",
                  "label": "Person:__Entity__"
                },
                "color": "#2196F3",
                "styles": {},
                "label": "Edward Vi",
                "scale_factor": 1,
                "type": "#2196F3",
                "size": [
                  55,
                  55
                ],
                "position": [
                  0,
                  0
                ]
              },
              {
                "id": 5,
                "properties": {
                  "id": "Mary I",
                  "label": "Person:__Entity__"
                },
                "color": "#2196F3",
                "styles": {},
                "label": "Mary I",
                "scale_factor": 1,
                "type": "#2196F3",
                "size": [
                  55,
                  55
                ],
                "position": [
                  0,
                  0
                ]
              },
              {
                "id": 6,
                "properties": {
                  "id": "James Vi Of Scotland",
                  "label": "Person:__Entity__"
                },
                "color": "#2196F3",
                "styles": {},
                "label": "James Vi Of Scotland",
                "scale_factor": 1,
                "type": "#2196F3",
                "size": [
                  55,
                  55
                ],
                "position": [
                  0,
                  0
                ]
              },
              {
                "id": 8,
                "properties": {
                  "id": "Elizabeth",
                  "label": "Person:__Entity__"
                },
                "color": "#2196F3",
                "styles": {},
                "label": "Elizabeth",
                "scale_factor": 1,
                "type": "#2196F3",
                "size": [
                  55,
                  55
                ],
                "position": [
                  0,
                  0
                ]
              },
              {
                "id": 17,
                "properties": {
                  "id": "Peter The Great",
                  "label": "Person:__Entity__"
                },
                "color": "#2196F3",
                "styles": {},
                "label": "Peter The Great",
                "scale_factor": 1,
                "type": "#2196F3",
                "size": [
                  55,
                  55
                ],
                "position": [
                  0,
                  0
                ]
              },
              {
                "id": 9,
                "properties": {
                  "id": "An",
                  "label": "Person:__Entity__"
                },
                "color": "#2196F3",
                "styles": {},
                "label": "An",
                "scale_factor": 1,
                "type": "#2196F3",
                "size": [
                  55,
                  55
                ],
                "position": [
                  0,
                  0
                ]
              },
              {
                "id": 18,
                "properties": {
                  "id": "Catherine I Of Russia",
                  "label": "Person:__Entity__"
                },
                "color": "#2196F3",
                "styles": {},
                "label": "Catherine I Of Russia",
                "scale_factor": 1,
                "type": "#2196F3",
                "size": [
                  55,
                  55
                ],
                "position": [
                  0,
                  0
                ]
              },
              {
                "id": 28,
                "properties": {
                  "id": "Catherine",
                  "label": "Person:__Entity__"
                },
                "color": "#2196F3",
                "styles": {},
                "label": "Catherine",
                "scale_factor": 1,
                "type": "#2196F3",
                "size": [
                  55,
                  55
                ],
                "position": [
                  0,
                  0
                ]
              },
              {
                "id": 20,
                "properties": {
                  "id": "Anna",
                  "label": "Person:__Entity__"
                },
                "color": "#2196F3",
                "styles": {},
                "label": "Anna",
                "scale_factor": 1,
                "type": "#2196F3",
                "size": [
                  55,
                  55
                ],
                "position": [
                  0,
                  0
                ]
              },
              {
                "id": 10,
                "properties": {
                  "id": "Elizabeth Of York",
                  "label": "Person:__Entity__"
                },
                "color": "#2196F3",
                "styles": {},
                "label": "Elizabeth Of York",
                "scale_factor": 1,
                "type": "#2196F3",
                "size": [
                  55,
                  55
                ],
                "position": [
                  0,
                  0
                ]
              },
              {
                "id": 11,
                "properties": {
                  "id": "Lady Elizabeth Howard",
                  "label": "Person:__Entity__"
                },
                "color": "#2196F3",
                "styles": {},
                "label": "Lady Elizabeth Howard",
                "scale_factor": 1,
                "type": "#2196F3",
                "size": [
                  55,
                  55
                ],
                "position": [
                  0,
                  0
                ]
              },
              {
                "id": 12,
                "properties": {
                  "id": "William Shakespeare",
                  "label": "Person:__Entity__"
                },
                "color": "#2196F3",
                "styles": {},
                "label": "William Shakespeare",
                "scale_factor": 1,
                "type": "#2196F3",
                "size": [
                  55,
                  55
                ],
                "position": [
                  0,
                  0
                ]
              },
              {
                "id": 13,
                "properties": {
                  "id": "Christopher Marlowe",
                  "label": "Person:__Entity__"
                },
                "color": "#2196F3",
                "styles": {},
                "label": "Christopher Marlowe",
                "scale_factor": 1,
                "type": "#2196F3",
                "size": [
                  55,
                  55
                ],
                "position": [
                  0,
                  0
                ]
              },
              {
                "id": 14,
                "properties": {
                  "id": "Francis Drake",
                  "label": "Person:__Entity__"
                },
                "color": "#2196F3",
                "styles": {},
                "label": "Francis Drake",
                "scale_factor": 1,
                "type": "#2196F3",
                "size": [
                  55,
                  55
                ],
                "position": [
                  0,
                  0
                ]
              },
              {
                "id": 15,
                "properties": {
                  "id": "Walter Raleigh",
                  "label": "Person:__Entity__"
                },
                "color": "#2196F3",
                "styles": {},
                "label": "Walter Raleigh",
                "scale_factor": 1,
                "type": "#2196F3",
                "size": [
                  55,
                  55
                ],
                "position": [
                  0,
                  0
                ]
              },
              {
                "id": 19,
                "properties": {
                  "id": "Peter Ii",
                  "label": "Person:__Entity__"
                },
                "color": "#2196F3",
                "styles": {},
                "label": "Peter Ii",
                "scale_factor": 1,
                "type": "#2196F3",
                "size": [
                  55,
                  55
                ],
                "position": [
                  0,
                  0
                ]
              },
              {
                "id": 22,
                "properties": {
                  "id": "Peter Iii",
                  "label": "Person:__Entity__"
                },
                "color": "#2196F3",
                "styles": {},
                "label": "Peter Iii",
                "scale_factor": 1,
                "type": "#2196F3",
                "size": [
                  55,
                  55
                ],
                "position": [
                  0,
                  0
                ]
              },
              {
                "id": 21,
                "properties": {
                  "id": "Ivan Vi",
                  "label": "Person:__Entity__"
                },
                "color": "#2196F3",
                "styles": {},
                "label": "Ivan Vi",
                "scale_factor": 1,
                "type": "#2196F3",
                "size": [
                  55,
                  55
                ],
                "position": [
                  0,
                  0
                ]
              },
              {
                "id": 23,
                "properties": {
                  "id": "Mikhail Lomonosov",
                  "label": "Person:__Entity__"
                },
                "color": "#2196F3",
                "styles": {},
                "label": "Mikhail Lomonosov",
                "scale_factor": 1,
                "type": "#2196F3",
                "size": [
                  55,
                  55
                ],
                "position": [
                  0,
                  0
                ]
              },
              {
                "id": 24,
                "properties": {
                  "id": "Ivan Shuvalov",
                  "label": "Person:__Entity__"
                },
                "color": "#2196F3",
                "styles": {},
                "label": "Ivan Shuvalov",
                "scale_factor": 1,
                "type": "#2196F3",
                "size": [
                  55,
                  55
                ],
                "position": [
                  0,
                  0
                ]
              },
              {
                "id": 25,
                "properties": {
                  "id": "Bartolomeo Rastrelli",
                  "label": "Person:__Entity__"
                },
                "color": "#2196F3",
                "styles": {},
                "label": "Bartolomeo Rastrelli",
                "scale_factor": 1,
                "type": "#2196F3",
                "size": [
                  55,
                  55
                ],
                "position": [
                  0,
                  0
                ]
              },
              {
                "id": 26,
                "properties": {
                  "id": "Frederick The Great",
                  "label": "Person:__Entity__"
                },
                "color": "#2196F3",
                "styles": {},
                "label": "Frederick The Great",
                "scale_factor": 1,
                "type": "#2196F3",
                "size": [
                  55,
                  55
                ],
                "position": [
                  0,
                  0
                ]
              },
              {
                "id": 30,
                "properties": {
                  "id": "Alexei Petrovich",
                  "label": "Person:__Entity__"
                },
                "color": "#2196F3",
                "styles": {},
                "label": "Alexei Petrovich",
                "scale_factor": 1,
                "type": "#2196F3",
                "size": [
                  55,
                  55
                ],
                "position": [
                  0,
                  0
                ]
              },
              {
                "id": 31,
                "properties": {
                  "id": "Eudoxia Lopukhina",
                  "label": "Person:__Entity__"
                },
                "color": "#2196F3",
                "styles": {},
                "label": "Eudoxia Lopukhina",
                "scale_factor": 1,
                "type": "#2196F3",
                "size": [
                  55,
                  55
                ],
                "position": [
                  0,
                  0
                ]
              },
              {
                "id": 29,
                "properties": {
                  "id": "Samuel Skowroński",
                  "label": "Person:__Entity__"
                },
                "color": "#2196F3",
                "styles": {},
                "label": "Samuel Skowroński",
                "scale_factor": 1,
                "type": "#2196F3",
                "size": [
                  55,
                  55
                ],
                "position": [
                  0,
                  0
                ]
              },
              {
                "id": 33,
                "properties": {
                  "id": "Queen Elizabeth I",
                  "label": "Person:__Entity__"
                },
                "color": "#2196F3",
                "styles": {},
                "label": "Queen Elizabeth I",
                "scale_factor": 1,
                "type": "#2196F3",
                "size": [
                  55,
                  55
                ],
                "position": [
                  0,
                  0
                ]
              },
              {
                "id": 34,
                "properties": {
                  "id": "Nicholas Hilliard",
                  "label": "Person:__Entity__"
                },
                "color": "#2196F3",
                "styles": {},
                "label": "Nicholas Hilliard",
                "scale_factor": 1,
                "type": "#2196F3",
                "size": [
                  55,
                  55
                ],
                "position": [
                  0,
                  0
                ]
              },
              {
                "id": 35,
                "properties": {
                  "id": "George Gower",
                  "label": "Person:__Entity__"
                },
                "color": "#2196F3",
                "styles": {},
                "label": "George Gower",
                "scale_factor": 1,
                "type": "#2196F3",
                "size": [
                  55,
                  55
                ],
                "position": [
                  0,
                  0
                ]
              },
              {
                "id": 36,
                "properties": {
                  "id": "Cornelis Ketel",
                  "label": "Person:__Entity__"
                },
                "color": "#2196F3",
                "styles": {},
                "label": "Cornelis Ketel",
                "scale_factor": 1,
                "type": "#2196F3",
                "size": [
                  55,
                  55
                ],
                "position": [
                  0,
                  0
                ]
              },
              {
                "id": 37,
                "properties": {
                  "id": "Federico Zuccaro",
                  "label": "Person:__Entity__"
                },
                "color": "#2196F3",
                "styles": {},
                "label": "Federico Zuccaro",
                "scale_factor": 1,
                "type": "#2196F3",
                "size": [
                  55,
                  55
                ],
                "position": [
                  0,
                  0
                ]
              },
              {
                "id": 38,
                "properties": {
                  "id": "Isaac Oliver",
                  "label": "Person:__Entity__"
                },
                "color": "#2196F3",
                "styles": {},
                "label": "Isaac Oliver",
                "scale_factor": 1,
                "type": "#2196F3",
                "size": [
                  55,
                  55
                ],
                "position": [
                  0,
                  0
                ]
              },
              {
                "id": 39,
                "properties": {
                  "id": "Marcus Gheeraerts The Younger",
                  "label": "Person:__Entity__"
                },
                "color": "#2196F3",
                "styles": {},
                "label": "Marcus Gheeraerts The Younger",
                "scale_factor": 1,
                "type": "#2196F3",
                "size": [
                  55,
                  55
                ],
                "position": [
                  0,
                  0
                ]
              },
              {
                "id": 41,
                "properties": {
                  "id": "Hans Holbein The Younger",
                  "label": "Person:__Entity__"
                },
                "color": "#2196F3",
                "styles": {},
                "label": "Hans Holbein The Younger",
                "scale_factor": 1,
                "type": "#2196F3",
                "size": [
                  55,
                  55
                ],
                "position": [
                  0,
                  0
                ]
              },
              {
                "id": 43,
                "properties": {
                  "id": "Jane Seymour",
                  "label": "Person:__Entity__"
                },
                "color": "#2196F3",
                "styles": {},
                "label": "Jane Seymour",
                "scale_factor": 1,
                "type": "#2196F3",
                "size": [
                  55,
                  55
                ],
                "position": [
                  0,
                  0
                ]
              },
              {
                "id": 44,
                "properties": {
                  "id": "Titian",
                  "label": "__Entity__"
                },
                "color": "#4CAF50",
                "styles": {},
                "label": "Titian",
                "scale_factor": 1,
                "type": "#4CAF50",
                "size": [
                  55,
                  55
                ],
                "position": [
                  0,
                  0
                ]
              },
              {
                "id": 42,
                "properties": {
                  "id": "Philip Ii Of Spain",
                  "label": "Person:__Entity__"
                },
                "color": "#2196F3",
                "styles": {},
                "label": "Philip Ii Of Spain",
                "scale_factor": 1,
                "type": "#2196F3",
                "size": [
                  55,
                  55
                ],
                "position": [
                  0,
                  0
                ]
              }
            ],
            "_overview": {
              "enabled": null,
              "overview_set": false
            },
            "_selected_graph": [
              [],
              []
            ],
            "_sidebar": {
              "enabled": false,
              "start_with": null
            },
            "_view_count": null,
            "_view_module": "yfiles-jupyter-graphs",
            "_view_module_version": "^1.10.1",
            "_view_name": "GraphView",
            "layout": "IPY_MODEL_f14fca29b4a848b29a6106b80b39b4e9",
            "tabbable": null,
            "tooltip": null
          }
        },
        "f14fca29b4a848b29a6106b80b39b4e9": {
          "model_module": "@jupyter-widgets/base",
          "model_name": "LayoutModel",
          "model_module_version": "2.0.0",
          "state": {
            "_model_module": "@jupyter-widgets/base",
            "_model_module_version": "2.0.0",
            "_model_name": "LayoutModel",
            "_view_count": null,
            "_view_module": "@jupyter-widgets/base",
            "_view_module_version": "2.0.0",
            "_view_name": "LayoutView",
            "align_content": null,
            "align_items": null,
            "align_self": null,
            "border_bottom": null,
            "border_left": null,
            "border_right": null,
            "border_top": null,
            "bottom": null,
            "display": null,
            "flex": null,
            "flex_flow": null,
            "grid_area": null,
            "grid_auto_columns": null,
            "grid_auto_flow": null,
            "grid_auto_rows": null,
            "grid_column": null,
            "grid_gap": null,
            "grid_row": null,
            "grid_template_areas": null,
            "grid_template_columns": null,
            "grid_template_rows": null,
            "height": "800px",
            "justify_content": null,
            "justify_items": null,
            "left": null,
            "margin": null,
            "max_height": null,
            "max_width": null,
            "min_height": null,
            "min_width": null,
            "object_fit": null,
            "object_position": null,
            "order": null,
            "overflow": null,
            "padding": null,
            "right": null,
            "top": null,
            "visibility": null,
            "width": "100%"
          }
        }
      }
    }
  },
  "cells": [
    {
      "cell_type": "markdown",
      "metadata": {
        "id": "view-in-github",
        "colab_type": "text"
      },
      "source": [
        "<a href=\"https://colab.research.google.com/github/Avinash-sr/GenAI-collab-notebooks/blob/main/RAG_with_Neo4j.ipynb\" target=\"_parent\"><img src=\"https://colab.research.google.com/assets/colab-badge.svg\" alt=\"Open In Colab\"/></a>"
      ]
    },
    {
      "cell_type": "code",
      "execution_count": null,
      "metadata": {
        "id": "JZxe65gJgyct"
      },
      "outputs": [],
      "source": [
        "%pip install --upgrade --quiet  langchain langchain-community langchain-openai langchain-experimental neo4j wikipedia tiktoken yfiles_jupyter_graphs langchain-neo4j langchain-groq"
      ]
    },
    {
      "cell_type": "code",
      "source": [
        "from langchain_core.runnables import (\n",
        "    RunnableBranch,\n",
        "    RunnableLambda,\n",
        "    RunnableParallel,\n",
        "    RunnablePassthrough,\n",
        ")"
      ],
      "metadata": {
        "id": "dlV-c428kKgN"
      },
      "execution_count": null,
      "outputs": []
    },
    {
      "cell_type": "code",
      "source": [
        "from langchain_core.prompts import ChatPromptTemplate\n",
        "from langchain_core.prompts.prompt import PromptTemplate"
      ],
      "metadata": {
        "id": "1mYZ7IlNkLh5"
      },
      "execution_count": null,
      "outputs": []
    },
    {
      "cell_type": "code",
      "source": [
        "from typing import Tuple, List, Optional"
      ],
      "metadata": {
        "id": "xIbnhybBicEc"
      },
      "execution_count": null,
      "outputs": []
    },
    {
      "cell_type": "code",
      "source": [
        "from langchain_core.messages import AIMessage, HumanMessage\n",
        "from langchain_core.output_parsers import StrOutputParser"
      ],
      "metadata": {
        "id": "2YbD3J7ZkTWb"
      },
      "execution_count": null,
      "outputs": []
    },
    {
      "cell_type": "code",
      "source": [
        "from langchain_core.runnables import ConfigurableField"
      ],
      "metadata": {
        "id": "F5H7Ob-SkWin"
      },
      "execution_count": null,
      "outputs": []
    },
    {
      "cell_type": "code",
      "source": [
        "from yfiles_jupyter_graphs import GraphWidget\n",
        "from neo4j import GraphDatabase\n"
      ],
      "metadata": {
        "id": "eohNFW3wkZD3"
      },
      "execution_count": null,
      "outputs": []
    },
    {
      "cell_type": "code",
      "source": [
        "import os"
      ],
      "metadata": {
        "id": "iaHkj_h_kbPs"
      },
      "execution_count": null,
      "outputs": []
    },
    {
      "cell_type": "code",
      "source": [
        "try:\n",
        "  import google.colab\n",
        "  from google.colab import output\n",
        "  output.enable_custom_widget_manager()\n",
        "except:\n",
        "  pass"
      ],
      "metadata": {
        "id": "5v1O4bupkdWL"
      },
      "execution_count": null,
      "outputs": []
    },
    {
      "cell_type": "code",
      "source": [
        "from langchain_community.vectorstores import Neo4jVector"
      ],
      "metadata": {
        "id": "SOsKkf4akh6J"
      },
      "execution_count": null,
      "outputs": []
    },
    {
      "cell_type": "code",
      "source": [
        "from google.colab import userdata\n",
        "OPENAI_API_KEY=userdata.get('OPENAI_API_KEY')\n",
        "GROQ_API_KEY = userdata.get('GROQ_API_KEY')"
      ],
      "metadata": {
        "id": "yFtKRpx0hwqq"
      },
      "execution_count": null,
      "outputs": []
    },
    {
      "cell_type": "code",
      "source": [
        "NEO4J_URI=\"neo4j+s://02492906.databases.neo4j.io\"\n",
        "NEO4J_USERNAME=\"neo4j\"\n",
        "NEO4J_PASSWORD=\"aXqHtTSWS_wY02WitzbZdQi9aaQw9Kk4CmzeKOv6RzQ\""
      ],
      "metadata": {
        "id": "KYFYQgbvkkj3"
      },
      "execution_count": null,
      "outputs": []
    },
    {
      "cell_type": "code",
      "source": [
        "os.environ[\"OPENAI_API_KEY\"] = OPENAI_API_KEY\n",
        "os.environ[\"GROQ_API_KEY\"] = GROQ_API_KEY\n",
        "os.environ[\"NEO4J_URI\"] = NEO4J_URI\n",
        "os.environ[\"NEO4J_USERNAME\"] = NEO4J_USERNAME\n",
        "os.environ[\"NEO4J_PASSWORD\"] = NEO4J_PASSWORD"
      ],
      "metadata": {
        "id": "YwzKBfUqkueM"
      },
      "execution_count": null,
      "outputs": []
    },
    {
      "cell_type": "code",
      "source": [
        "from langchain_neo4j import Neo4jGraph"
      ],
      "metadata": {
        "id": "fTHYysCKkx3o"
      },
      "execution_count": null,
      "outputs": []
    },
    {
      "cell_type": "code",
      "source": [
        "graph = Neo4jGraph()"
      ],
      "metadata": {
        "id": "jcKOt2sMk1VO"
      },
      "execution_count": null,
      "outputs": []
    },
    {
      "cell_type": "code",
      "source": [
        "from langchain.document_loaders import WikipediaLoader\n",
        "raw_documents = WikipediaLoader(query=\"Elizabeth I\").load()"
      ],
      "metadata": {
        "colab": {
          "base_uri": "https://localhost:8080/"
        },
        "id": "arlengdSk3h6",
        "outputId": "b9c76f0e-c854-4e56-e45d-ef7d15fe7d87"
      },
      "execution_count": null,
      "outputs": [
        {
          "output_type": "stream",
          "name": "stderr",
          "text": [
            "/usr/local/lib/python3.11/dist-packages/wikipedia/wikipedia.py:389: GuessedAtParserWarning: No parser was explicitly specified, so I'm using the best available HTML parser for this system (\"lxml\"). This usually isn't a problem, but if you run this code on another system, or in a different virtual environment, it may use a different parser and behave differently.\n",
            "\n",
            "The code that caused this warning is on line 389 of the file /usr/local/lib/python3.11/dist-packages/wikipedia/wikipedia.py. To get rid of this warning, pass the additional argument 'features=\"lxml\"' to the BeautifulSoup constructor.\n",
            "\n",
            "  lis = BeautifulSoup(html).find_all('li')\n"
          ]
        }
      ]
    },
    {
      "cell_type": "code",
      "source": [
        "from langchain.text_splitter import TokenTextSplitter\n",
        "text_splitter = TokenTextSplitter(chunk_size=512, chunk_overlap=24)\n",
        "documents = text_splitter.split_documents(raw_documents[:3])"
      ],
      "metadata": {
        "id": "8evNj--4k8nv"
      },
      "execution_count": null,
      "outputs": []
    },
    {
      "cell_type": "code",
      "source": [
        "# from langchain_openai import ChatOpenAI\n",
        "# from langchain_experimental.graph_transformers import LLMGraphTransformer\n",
        "# llm = ChatOpenAI(temperature=0, model_name=\"gpt-4-turbo\")\n",
        "\n",
        "# llm_transformer = LLMGraphTransformer(llm=llm)"
      ],
      "metadata": {
        "id": "Q0iSk-wLlL4U"
      },
      "execution_count": null,
      "outputs": []
    },
    {
      "cell_type": "code",
      "source": [
        "from langchain_groq import ChatGroq\n",
        "# os.environ[\"GROQ_API_KEY\"] = GROQ_API_KEY\n",
        "from langchain_experimental.graph_transformers import LLMGraphTransformer\n",
        "groq_api_key=os.getenv('GROQ_API_KEY')\n",
        "llm = ChatGroq(groq_api_key=groq_api_key, model_name=\"llama3-8b-8192\", temperature=0)\n",
        "llm_transformer = LLMGraphTransformer(llm=llm)"
      ],
      "metadata": {
        "id": "WHLwrkiHn7Nr"
      },
      "execution_count": null,
      "outputs": []
    },
    {
      "cell_type": "code",
      "source": [
        "graph_documents = llm_transformer.convert_to_graph_documents(documents)"
      ],
      "metadata": {
        "id": "OME8sH9XlQJa"
      },
      "execution_count": null,
      "outputs": []
    },
    {
      "cell_type": "code",
      "source": [
        "graph.add_graph_documents(\n",
        "    graph_documents,\n",
        "    baseEntityLabel=True,\n",
        "    include_source=True\n",
        ")"
      ],
      "metadata": {
        "id": "Tj2cIsuAo1xj"
      },
      "execution_count": null,
      "outputs": []
    },
    {
      "cell_type": "code",
      "source": [
        "default_cypher = \"MATCH (s)-[r:!MENTIONS]->(t) RETURN s,r,t LIMIT 50\""
      ],
      "metadata": {
        "id": "2QHBZ4TeuKBf"
      },
      "execution_count": null,
      "outputs": []
    },
    {
      "cell_type": "code",
      "source": [
        "\n",
        "from yfiles_jupyter_graphs import GraphWidget\n",
        "from neo4j import GraphDatabase\n",
        "\n",
        "try:\n",
        "  import google.colab\n",
        "  from google.colab import output\n",
        "  output.enable_custom_widget_manager()\n",
        "except:\n",
        "  pass\n",
        "\n",
        "\n",
        "def showGraph(cypher: str = default_cypher):\n",
        "    # create a neo4j session to run queries\n",
        "    driver = GraphDatabase.driver(\n",
        "        uri = os.environ[\"NEO4J_URI\"],\n",
        "        auth = (os.environ[\"NEO4J_USERNAME\"],\n",
        "                os.environ[\"NEO4J_PASSWORD\"]))\n",
        "    session = driver.session()\n",
        "    widget = GraphWidget(graph = session.run(cypher).graph())\n",
        "    widget.node_label_mapping = 'id'\n",
        "    display(widget)\n",
        "    return widget\n",
        "\n",
        "showGraph()"
      ],
      "metadata": {
        "colab": {
          "base_uri": "https://localhost:8080/",
          "height": 1000,
          "referenced_widgets": [
            "6685ede534b8446dba0fd2a3c53bec67",
            "f14fca29b4a848b29a6106b80b39b4e9"
          ]
        },
        "id": "DJhkHo28uoDW",
        "outputId": "3977f87f-0834-4a22-ec0e-9c1ed95037a5"
      },
      "execution_count": null,
      "outputs": [
        {
          "output_type": "display_data",
          "data": {
            "text/plain": [
              "GraphWidget(layout=Layout(height='800px', width='100%'))"
            ],
            "application/vnd.jupyter.widget-view+json": {
              "version_major": 2,
              "version_minor": 0,
              "model_id": "6685ede534b8446dba0fd2a3c53bec67"
            }
          },
          "metadata": {
            "application/vnd.jupyter.widget-view+json": {
              "colab": {
                "custom_widget_manager": {
                  "url": "https://ssl.gstatic.com/colaboratory-static/widgets/colab-cdn-widget-manager/2b70e893a8ba7c0f/manager.min.js"
                }
              }
            }
          }
        },
        {
          "output_type": "display_data",
          "data": {
            "text/plain": [
              "GraphWidget(layout=Layout(height='800px', width='100%'))"
            ],
            "application/vnd.jupyter.widget-view+json": {
              "version_major": 2,
              "version_minor": 0,
              "model_id": "6685ede534b8446dba0fd2a3c53bec67"
            }
          },
          "metadata": {
            "application/vnd.jupyter.widget-view+json": {
              "colab": {
                "custom_widget_manager": {
                  "url": "https://ssl.gstatic.com/colaboratory-static/widgets/colab-cdn-widget-manager/2b70e893a8ba7c0f/manager.min.js"
                }
              }
            }
          }
        }
      ]
    },
    {
      "cell_type": "code",
      "source": [
        "from typing import Tuple, List, Optional\n",
        "from langchain_community.vectorstores import Neo4jVector\n",
        "\n",
        "from langchain_openai import OpenAIEmbeddings\n",
        "vector_index = Neo4jVector.from_existing_graph(\n",
        "    OpenAIEmbeddings(),\n",
        "    search_type=\"hybrid\",\n",
        "    node_label=\"Document\",\n",
        "    text_node_properties=[\"text\"],\n",
        "    embedding_node_property=\"embedding\"\n",
        ")"
      ],
      "metadata": {
        "id": "blGGB0zSSBgG"
      },
      "execution_count": null,
      "outputs": []
    },
    {
      "cell_type": "code",
      "source": [
        "from langchain_core.pydantic_v1 import BaseModel, Field\n",
        "# Extract entities from text\n",
        "class Entities(BaseModel):\n",
        "    \"\"\"Identifying information about entities.\"\"\"\n",
        "\n",
        "    names: List[str] = Field(\n",
        "        ...,\n",
        "        description=\"All the person, organization, or business entities that \"\n",
        "        \"appear in the text\",\n",
        "    )\n"
      ],
      "metadata": {
        "colab": {
          "base_uri": "https://localhost:8080/"
        },
        "id": "kPXLyFjOz4-t",
        "outputId": "2ebe08f0-951d-4611-aab2-3acce726cac1"
      },
      "execution_count": null,
      "outputs": [
        {
          "output_type": "stream",
          "name": "stderr",
          "text": [
            "/usr/local/lib/python3.11/dist-packages/IPython/core/interactiveshell.py:3553: LangChainDeprecationWarning: As of langchain-core 0.3.0, LangChain uses pydantic v2 internally. The langchain_core.pydantic_v1 module was a compatibility shim for pydantic v1, and should no longer be used. Please update the code to import from Pydantic directly.\n",
            "\n",
            "For example, replace imports like: `from langchain_core.pydantic_v1 import BaseModel`\n",
            "with: `from pydantic import BaseModel`\n",
            "or the v1 compatibility namespace if you are working in a code base that has not been fully upgraded to pydantic 2 yet. \tfrom pydantic.v1 import BaseModel\n",
            "\n",
            "  exec(code_obj, self.user_global_ns, self.user_ns)\n"
          ]
        }
      ]
    },
    {
      "cell_type": "code",
      "source": [
        "from langchain_core.prompts import ChatPromptTemplate\n",
        "from langchain_core.prompts.prompt import PromptTemplate"
      ],
      "metadata": {
        "id": "NYcgXdJSz5T5"
      },
      "execution_count": null,
      "outputs": []
    },
    {
      "cell_type": "code",
      "source": [
        "prompt = ChatPromptTemplate.from_messages(\n",
        "    [\n",
        "        (\n",
        "            \"system\",\n",
        "            \"You are extracting organization and person entities from the text.\",\n",
        "        ),\n",
        "        (\n",
        "            \"human\",\n",
        "            \"Use the given format to extract information from the following \"\n",
        "            \"input: {question}\",\n",
        "        ),\n",
        "    ]\n",
        ")"
      ],
      "metadata": {
        "id": "EBX3qm-T0CY9"
      },
      "execution_count": null,
      "outputs": []
    },
    {
      "cell_type": "code",
      "source": [
        "entity_chain = prompt | llm.with_structured_output(Entities)"
      ],
      "metadata": {
        "id": "AicPvj-r0FTs"
      },
      "execution_count": null,
      "outputs": []
    },
    {
      "cell_type": "code",
      "source": [
        "entity_chain.invoke({\"question\": \"Where was Amelia Earhart born?\"}).names"
      ],
      "metadata": {
        "colab": {
          "base_uri": "https://localhost:8080/"
        },
        "id": "Rvqy3BGA0Nx2",
        "outputId": "9dcc7c57-dffc-440c-b767-a61baac1c475"
      },
      "execution_count": null,
      "outputs": [
        {
          "output_type": "execute_result",
          "data": {
            "text/plain": [
              "['Amelia Earhart']"
            ]
          },
          "metadata": {},
          "execution_count": 29
        }
      ]
    },
    {
      "cell_type": "code",
      "source": [
        "# !pip install -U langchain-neo4j"
      ],
      "metadata": {
        "id": "yZOQ4iy9AprQ"
      },
      "execution_count": null,
      "outputs": []
    },
    {
      "cell_type": "code",
      "source": [
        "from langchain_neo4j.vectorstores.neo4j_vector import remove_lucene_chars\n"
      ],
      "metadata": {
        "id": "8W4rX6AmAm83"
      },
      "execution_count": null,
      "outputs": []
    },
    {
      "cell_type": "code",
      "source": [
        "# from langchain_community.vectorstores.neo4j_vector import remove_lucene_chars"
      ],
      "metadata": {
        "id": "aR0nrg6X0Qku"
      },
      "execution_count": null,
      "outputs": []
    },
    {
      "cell_type": "code",
      "source": [
        "def generate_full_text_query(input: str) -> str:\n",
        "    full_text_query = \"\"\n",
        "    words = [el for el in remove_lucene_chars(input).split() if el]\n",
        "    for word in words[:-1]:\n",
        "        full_text_query += f\" {word}~2 AND\"\n",
        "    full_text_query += f\" {words[-1]}~2\"\n",
        "    return full_text_query.strip()"
      ],
      "metadata": {
        "id": "GCVHsWvz3V4v"
      },
      "execution_count": null,
      "outputs": []
    },
    {
      "cell_type": "code",
      "source": [
        "def structured_retriever(question: str) -> str:\n",
        "    result = \"\"\n",
        "    entities = entity_chain.invoke({\"question\": question})\n",
        "    print(entities)\n",
        "    for entity in entities.names:\n",
        "        print(entity)\n",
        "        response = graph.query(\n",
        "            \"\"\"CALL db.index.fulltext.queryNodes('entity', $query, {limit:2})\n",
        "            YIELD node,score\n",
        "            CALL {\n",
        "              WITH node\n",
        "              MATCH (node)-[r:!MENTIONS]->(neighbor)\n",
        "              RETURN node.id + ' - ' + type(r) + ' -> ' + neighbor.id AS output\n",
        "              UNION ALL\n",
        "              WITH node\n",
        "              MATCH (node)<-[r:!MENTIONS]-(neighbor)\n",
        "              RETURN neighbor.id + ' - ' + type(r) + ' -> ' +  node.id AS output\n",
        "            }\n",
        "            RETURN output LIMIT 50\n",
        "            \"\"\",\n",
        "            {\"query\": generate_full_text_query(entity)},\n",
        "        )\n",
        "        result += \"\\n\".join([el['output'] for el in response])\n",
        "    return result"
      ],
      "metadata": {
        "id": "lhDvnYUQ3YNA"
      },
      "execution_count": null,
      "outputs": []
    },
    {
      "cell_type": "code",
      "source": [
        "try:\n",
        "  print(structured_retriever(\"Who is Peter lii?\"))\n",
        "except Exception as e:\n",
        "  print(e)"
      ],
      "metadata": {
        "colab": {
          "base_uri": "https://localhost:8080/"
        },
        "id": "RvRMvlfk3jW-",
        "outputId": "d8a5f481-f123-4cc2-a01f-73fe5e883e49"
      },
      "execution_count": null,
      "outputs": [
        {
          "output_type": "stream",
          "name": "stdout",
          "text": [
            "names=['Peter lii']\n",
            "Peter lii\n",
            "{code: Neo.ClientError.Procedure.ProcedureCallFailed} {message: Failed to invoke procedure `db.index.fulltext.queryNodes`: Caused by: java.lang.IllegalArgumentException: There is no such fulltext schema index: entity}\n"
          ]
        }
      ]
    }
  ]
}